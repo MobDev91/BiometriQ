{
  "cells": [
    {
      "cell_type": "markdown",
      "metadata": {
        "id": "KZrcjBBsd7qL"
      },
      "source": [
        "# Facial Expression Recognition Using SVM\n"
      ]
    },
    {
      "cell_type": "markdown",
      "metadata": {
        "id": "gZ_OyDnOd7m-"
      },
      "source": [
        "## Imports"
      ]
    },
    {
      "cell_type": "code",
      "execution_count": 1,
      "metadata": {
        "id": "yGMk-YTaeAuF"
      },
      "outputs": [
        {
          "name": "stdout",
          "output_type": "stream",
          "text": [
            "WARNING:tensorflow:From c:\\Users\\SOHILA\\AppData\\Local\\Programs\\Python\\Python310\\lib\\site-packages\\keras\\src\\losses.py:2976: The name tf.losses.sparse_softmax_cross_entropy is deprecated. Please use tf.compat.v1.losses.sparse_softmax_cross_entropy instead.\n",
            "\n"
          ]
        }
      ],
      "source": [
        "import random\n",
        "import glob\n",
        "import os\n",
        "import cv2\n",
        "import matplotlib.pyplot as plt\n",
        "import seaborn as sns\n",
        "import numpy as np\n",
        "from skimage.feature import local_binary_pattern\n",
        "from skimage.filters import gabor\n",
        "from sklearn.preprocessing import LabelEncoder\n",
        "from sklearn import svm\n",
        "from sklearn.metrics import confusion_matrix, accuracy_score, precision_score, recall_score, f1_score\n",
        "from keras.utils import to_categorical"
      ]
    },
    {
      "cell_type": "markdown",
      "metadata": {
        "id": "rfoVZXDoeWGb"
      },
      "source": [
        "## Data Read"
      ]
    },
    {
      "cell_type": "code",
      "execution_count": 2,
      "metadata": {},
      "outputs": [],
      "source": [
        "# Define a function to compute LBP features for a given image\n",
        "def compute_lbp(image, num_points=8, radius=1, method='uniform'):\n",
        "    gray = cv2.cvtColor(image, cv2.COLOR_BGR2GRAY)\n",
        "    lbp = local_binary_pattern(gray, num_points, radius, method=method)\n",
        "    return lbp.flatten()"
      ]
    },
    {
      "cell_type": "code",
      "execution_count": 3,
      "metadata": {},
      "outputs": [],
      "source": [
        "def compute_gabor(image):\n",
        "    # Convert the image to grayscale\n",
        "    if len(image.shape) == 3:\n",
        "        image = cv2.cvtColor(image, cv2.COLOR_BGR2GRAY)\n",
        "\n",
        "    # Normalize pixel values to the range [0, 1]\n",
        "    image = image / 255.0\n",
        "\n",
        "    # Define Gabor filter parameters\n",
        "    frequency = 0.6\n",
        "    theta = 1.0\n",
        "    sigma_x = 2.0\n",
        "    sigma_y = 2.0\n",
        "\n",
        "    # Apply Gabor filter\n",
        "    gabor_features, _ = gabor(image, frequency=frequency, theta=theta, sigma_x=sigma_x, sigma_y=sigma_y)\n",
        "\n",
        "    # Flatten the Gabor features to a 1D array\n",
        "    gabor_features = gabor_features.flatten()\n",
        "\n",
        "    return gabor_features\n",
        "\n",
        "# Confusion Matrix:\n",
        "# [[1 0 9]\n",
        "#  [1 0 9]\n",
        "#  [2 0 8]]\n",
        "\n",
        "# Accuracy: 0.30\n",
        "# Precision: 0.19\n",
        "# Recall: 0.30\n",
        "# F1 Score: 0.20"
      ]
    },
    {
      "cell_type": "code",
      "execution_count": 4,
      "metadata": {},
      "outputs": [
        {
          "name": "stdout",
          "output_type": "stream",
          "text": [
            "Total images collected: 77\n",
            "Number of unique image labels: 3\n"
          ]
        }
      ],
      "source": [
        "train_path = \"../../Datasets/Emotion_Datasets/our_dataset/detected faces/train detected faces for each emotion/preprocessed/\"\n",
        "\n",
        "# Create a mapping from string train_labels (emotions) to class numbers\n",
        "emotion_to_class = {'disgust': 0, 'anger': 1, 'happiness': 2}\n",
        "\n",
        "# Initialize a set to store unique image labels\n",
        "unique_labels = set()\n",
        "\n",
        "# Initialize a list to store image data as tuples\n",
        "train_image_data = []\n",
        "\n",
        "# Loop through the subfolders\n",
        "for folder_name in os.listdir(train_path):\n",
        "    folder_path = os.path.join(train_path, folder_name)\n",
        "    if os.path.isdir(folder_path):\n",
        "        image_files = glob.glob(os.path.join(folder_path, '*.jpg'))  # Modify the extension pattern if needed\n",
        "\n",
        "        for image_path in image_files:\n",
        "            # Extract emotion label from the folder name\n",
        "            emotion_label = folder_name.lower()  # Assuming folder name represents the emotion label\n",
        "\n",
        "            if emotion_label == 'sadness':\n",
        "                continue\n",
        "            if emotion_label == 'surprise':\n",
        "                continue\n",
        "            if emotion_label == 'fear':\n",
        "                continue\n",
        "            if emotion_label == 'neutral':\n",
        "                continue\n",
        "\n",
        "            # Convert the emotion label to class number using the mapping\n",
        "            class_number = emotion_to_class.get(emotion_label, -1)  # -1 as a default value if the label is not in the mapping\n",
        "\n",
        "            if class_number != -1:  # Consider only valid class numbers\n",
        "                unique_labels.add(class_number)  # Add the class number to the set of unique labels\n",
        "\n",
        "                # Read the image\n",
        "                image = cv2.imread(image_path)\n",
        "\n",
        "                # Compute LBP features\n",
        "                lbp_features = compute_lbp(image)\n",
        "                # gabor_Features = compute_gabor(image)\n",
        "\n",
        "                # Store image and label as a tuple in the list\n",
        "                train_image_data.append((lbp_features, class_number))\n",
        "                \n",
        "random.shuffle(train_image_data)\n",
        "# Display the total number of collected images and the number of unique image labels\n",
        "print(\"Total images collected:\", len(train_image_data))\n",
        "print(\"Number of unique image labels:\", len(unique_labels))"
      ]
    },
    {
      "cell_type": "code",
      "execution_count": 5,
      "metadata": {},
      "outputs": [
        {
          "name": "stdout",
          "output_type": "stream",
          "text": [
            "Total images collected: 30\n",
            "Number of unique image labels: 3\n"
          ]
        }
      ],
      "source": [
        "test_path = \"../../Datasets/Emotion_Datasets/our_dataset/detected faces/test detected faces for each emotion/preprocessed/\"\n",
        "\n",
        "# Initialize a list to store image data as tuples\n",
        "test_image_data = []\n",
        "\n",
        "# Loop through the subfolders\n",
        "for folder_name in os.listdir(test_path):\n",
        "    folder_path = os.path.join(test_path, folder_name)\n",
        "    if os.path.isdir(folder_path):\n",
        "        image_files = glob.glob(os.path.join(folder_path, '*.jpg'))  # Modify the extension pattern if needed\n",
        "\n",
        "        for image_path in image_files:\n",
        "            # Extract emotion label from the folder name\n",
        "            emotion_label = folder_name.lower()  # Assuming folder name represents the emotion label\n",
        "\n",
        "            if emotion_label == 'sadness':\n",
        "                continue\n",
        "            if emotion_label == 'surprise':\n",
        "                continue\n",
        "            if emotion_label == 'fear':\n",
        "                continue\n",
        "            if emotion_label == 'neutral':\n",
        "                continue\n",
        "\n",
        "            # Convert the emotion label to class number using the mapping\n",
        "            class_number = emotion_to_class.get(emotion_label, -1)  # -1 as a default value if the label is not in the mapping\n",
        "\n",
        "            if class_number != -1:  # Consider only valid class numbers\n",
        "                unique_labels.add(class_number)  # Add the class number to the set of unique labels\n",
        "\n",
        "                # Read the image\n",
        "                image = cv2.imread(image_path)\n",
        "\n",
        "                # Compute LBP features\n",
        "                lbp_features = compute_lbp(image)\n",
        "                # gabor_Features = compute_gabor(image)\n",
        "\n",
        "                # Store image and label as a tuple in the list\n",
        "                test_image_data.append((lbp_features, class_number))\n",
        "                \n",
        "random.shuffle(test_image_data)\n",
        "# Display the total number of collected images and the number of unique image labels\n",
        "print(\"Total images collected:\", len(test_image_data))\n",
        "print(\"Number of unique image labels:\", len(unique_labels))"
      ]
    },
    {
      "cell_type": "markdown",
      "metadata": {
        "id": "DQyLFOg0egWw"
      },
      "source": [
        "## SVM Model"
      ]
    },
    {
      "cell_type": "code",
      "execution_count": 6,
      "metadata": {
        "colab": {
          "base_uri": "https://localhost:8080/"
        },
        "id": "9Hj1BlGNEh1R",
        "outputId": "3dda6ea0-808c-45eb-9fda-1d399feb6b0a"
      },
      "outputs": [
        {
          "name": "stdout",
          "output_type": "stream",
          "text": [
            "Unique Labels: {0, 1, 2}\n",
            "(77, 16384)\n",
            "(30, 16384)\n",
            "(77, 3)\n",
            "(30, 3)\n",
            "(77, 16384)\n",
            "(30, 16384)\n",
            "(77,)\n",
            "(30,)\n"
          ]
        }
      ],
      "source": [
        "X_train = np.array([data[0] for data in train_image_data])\n",
        "train_labels = np.array([data[1] for data in train_image_data])\n",
        "# Check unique labels and label encoding\n",
        "unique_labels_adjusted = set(train_labels)\n",
        "print(\"Unique Labels:\", unique_labels_adjusted)\n",
        "y_train = to_categorical(train_labels, num_classes=3)\n",
        "\n",
        "X_test = np.array([data[0] for data in test_image_data])\n",
        "test_labels = np.array([data[1] for data in test_image_data])\n",
        "y_test = to_categorical(test_labels, num_classes=3)\n",
        "\n",
        "print(X_train.shape)\n",
        "print(X_test.shape)\n",
        "print(y_train.shape)\n",
        "print(y_test.shape)\n",
        "\n",
        "X_train = X_train.reshape(X_train.shape[0],-1)\n",
        "X_test = X_test.reshape(X_test.shape[0],-1)\n",
        "\n",
        "le = LabelEncoder()\n",
        "y_train = le.fit_transform(y_train.argmax(axis=1))\n",
        "y_test = le.transform(y_test.argmax(axis=1))\n",
        "\n",
        "print(X_train.shape)\n",
        "print(X_test.shape)\n",
        "print(y_train.shape)\n",
        "print(y_test.shape)\n",
        "\n",
        "# print(f\"X_Train = {X_train}\")\n",
        "# print(f\"Y_Train = {y_train}\")\n",
        "# print(f\"X_Test = {X_test}\")\n",
        "# print(f\"Y_Test = {y_test}\")"
      ]
    },
    {
      "cell_type": "code",
      "execution_count": 7,
      "metadata": {
        "colab": {
          "base_uri": "https://localhost:8080/"
        },
        "id": "op6Qz9EZiEPp",
        "outputId": "96c34be7-a87c-4ca4-d000-f50f27480686"
      },
      "outputs": [
        {
          "name": "stdout",
          "output_type": "stream",
          "text": [
            "Prediction: [2 1 0 2 0 2 2 0 0 0 0 2 2 0 0 0 2 2 0 0 0 2 0 1 2 2 2 0 2 2]\n"
          ]
        }
      ],
      "source": [
        "#Create a svm Classifier\n",
        "clf = svm.SVC(kernel='linear',probability=True) # Linear Kernel\n",
        "\n",
        "#Train the model using the training sets\n",
        "clf.fit(X_train, y_train)\n",
        "\n",
        "#Predict the response for test dataset\n",
        "y_pred = clf.predict(X_test)\n",
        "\n",
        "print(f\"Prediction: {y_pred}\")"
      ]
    },
    {
      "cell_type": "markdown",
      "metadata": {},
      "source": [
        "## Results"
      ]
    },
    {
      "cell_type": "code",
      "execution_count": 8,
      "metadata": {
        "colab": {
          "base_uri": "https://localhost:8080/"
        },
        "id": "xwIDiPdcgBJ6",
        "outputId": "086db816-91ce-4177-f7a4-4bc1a4791043"
      },
      "outputs": [
        {
          "name": "stdout",
          "output_type": "stream",
          "text": [
            "Confusion Matrix:\n",
            "[[6 1 3]\n",
            " [5 1 4]\n",
            " [3 0 7]]\n",
            "\n",
            "Accuracy: 0.47\n",
            "Precision: 0.48\n",
            "Recall: 0.47\n",
            "F1 Score: 0.42\n"
          ]
        }
      ],
      "source": [
        "# Step 4: Create a confusion matrix\n",
        "conf_matrix = confusion_matrix(y_test, y_pred)\n",
        "\n",
        "print(\"Confusion Matrix:\")\n",
        "print(conf_matrix)\n",
        "\n",
        "# Step 5: Calculate performance metrics\n",
        "accuracy = accuracy_score(y_test, y_pred)\n",
        "precision = precision_score(y_test, y_pred,average='weighted')\n",
        "recall = recall_score(y_test, y_pred,average='weighted')\n",
        "f1 = f1_score(y_test, y_pred,average='weighted')\n",
        "\n",
        "print(\"\\nAccuracy: {:.2f}\".format(accuracy))\n",
        "print(\"Precision: {:.2f}\".format(precision))\n",
        "print(\"Recall: {:.2f}\".format(recall))\n",
        "print(\"F1 Score: {:.2f}\".format(f1))"
      ]
    },
    {
      "cell_type": "code",
      "execution_count": 9,
      "metadata": {
        "colab": {
          "base_uri": "https://localhost:8080/",
          "height": 718
        },
        "id": "aSQlA-Fcin11",
        "outputId": "78f70bfe-932f-41a9-940d-f8da64a72db0"
      },
      "outputs": [
        {
          "data": {
            "image/png": "[encoded data removed]",
            "text/plain": [
              "<Figure size 720x576 with 2 Axes>"
            ]
          },
          "metadata": {
            "needs_background": "light"
          },
          "output_type": "display_data"
        }
      ],
      "source": [
        "# Create a mapping from string labels (emotions) to class numbers\n",
        "emotion_to_class = {'disgust': 0, 'anger': 1, 'happiness': 2}\n",
        "\n",
        "# Compute confusion matrix\n",
        "cm = confusion_matrix(y_test, y_pred)\n",
        "\n",
        "# Plot confusion matrix\n",
        "plt.figure(figsize=(10, 8))\n",
        "sns.heatmap(cm, annot=True, fmt='g', cmap='Blues', xticklabels=emotion_to_class.keys(), yticklabels=emotion_to_class.keys())\n",
        "plt.title('Confusion Matrix')\n",
        "plt.xlabel('Predicted')\n",
        "plt.ylabel('True')\n",
        "plt.show()"
      ]
    },
    {
      "cell_type": "markdown",
      "metadata": {},
      "source": [
        "## Validation"
      ]
    },
    {
      "cell_type": "code",
      "execution_count": 10,
      "metadata": {},
      "outputs": [
        {
          "data": {
            "image/png": "[encoded data removed]",
            "text/plain": [
              "<Figure size 432x288 with 1 Axes>"
            ]
          },
          "metadata": {
            "needs_background": "light"
          },
          "output_type": "display_data"
        },
        {
          "name": "stdout",
          "output_type": "stream",
          "text": [
            "Input Data Shape: (1, 16384)\n",
            "Class Probabilities: [[3.33333406e-14 1.66666703e-14 1.00000000e+00]]\n",
            "2\n",
            "Predicted Emotion: happiness\n"
          ]
        }
      ],
      "source": [
        "# Load and preprocess a new image for testing\n",
        "val_image_path = '../../Datasets/Emotion_Datasets/our_dataset/detected faces/validation detected faces for each emotion/preprocessed/happiness/497226.jpg_face.jpg'  # Replace with the path to your test image\n",
        "\n",
        "# Read the image\n",
        "val_image = cv2.imread(val_image_path,cv2.COLOR_BGR2GRAY)\n",
        "\n",
        "# Plot the image\n",
        "plt.imshow(cv2.cvtColor(val_image, cv2.COLOR_BGR2RGB))  # Convert BGR to RGB for correct display\n",
        "plt.title(\"Emotion: Happiness\")\n",
        "plt.axis('off')  # Turn off axis labels\n",
        "plt.show()\n",
        "\n",
        "val_data = np.array(val_image)\n",
        "\n",
        "# Expand dimensions to match the model's expected input shape (add batch dimension)\n",
        "val_data = np.expand_dims(val_data, axis=0)\n",
        "\n",
        "val_data = val_data.reshape(val_data.shape[0],-1)\n",
        "\n",
        "# Print the shape of the input data\n",
        "print(\"Input Data Shape:\", val_data.shape)\n",
        "\n",
        "# Make probability predictions\n",
        "class_probabilities = clf.predict_proba(val_data)\n",
        "\n",
        "# Print class probabilities\n",
        "print(\"Class Probabilities:\", class_probabilities)\n",
        "\n",
        "# Get the predicted class for each sample\n",
        "predicted_class = np.argmax(class_probabilities, axis=1).item()\n",
        "\n",
        "print(predicted_class)\n",
        "\n",
        "# Map the predicted class index to the corresponding emotion label\n",
        "emotion_labels = {0: 'disgust', 1: 'anger', 2: 'happiness'}\n",
        "predicted_emotion = emotion_labels[predicted_class]\n",
        "\n",
        "# Print the predicted emotion\n",
        "print(f'Predicted Emotion: {predicted_emotion}')\n",
        "\n"
      ]
    }
  ],
  "metadata": {
    "accelerator": "GPU",
    "colab": {
      "gpuType": "T4",
      "provenance": []
    },
    "kernelspec": {
      "display_name": "Python 3",
      "name": "python3"
    },
    "language_info": {
      "codemirror_mode": {
        "name": "ipython",
        "version": 3
      },
      "file_extension": ".py",
      "mimetype": "text/x-python",
      "name": "python",
      "nbconvert_exporter": "python",
      "pygments_lexer": "ipython3",
      "version": "3.10.4"
    }
  },
  "nbformat": 4,
  "nbformat_minor": 0
}
